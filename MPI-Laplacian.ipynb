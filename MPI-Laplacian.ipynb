{
 "cells": [
  {
   "cell_type": "markdown",
   "metadata": {},
   "source": [
    "# Solving the Laplacian operator in 2D\n",
    "\n",
    "The objective is write an MPI code to calculate the Laplacian of any quantity discretized on a 2D, periodic, cartesian domain. \n",
    "\n",
    "It is suggested to use the Taylor Green Vortex:\n",
    "\n",
    "$$\n",
    "u =f(t)\\sin x\\cos y\\;, \\\\\n",
    "v = -f(t)\\cos x \\sin y\\;, \\\\\n",
    "p = \\frac{\\rho}{4}f^2(t)(\\cos 2x+\\sin 2y)\\;,\n",
    "$$\n",
    "respectively, and\n",
    "$$\n",
    "f(t)= e^{-2\\nu t}\n",
    "$$\n",
    "\n"
   ]
  },
  {
   "cell_type": "markdown",
   "metadata": {},
   "source": [
    "The grid is uniform in $x$ and $y$ and the second derivative must use a second order finite difference scheme:\n",
    "\n",
    "$$\n",
    "\\left.\\frac{\\partial^2 u}{\\partial x^2}\\right\\vert_{i,j}\\approx\\frac{u_{i-1,j}-2u_{i,j}+u_{i+1,j}}{\\Delta x^2}+\\mathcal{O}(\\Delta x^2)\n",
    "$$\n",
    "\n",
    "$$\n",
    "\\mathrm{Lap}(u)=\\nabla^2 u = \\frac{\\partial^2 u}{\\partial x^2} + \\frac{\\partial^2 u}{\\partial y^2}\n",
    "$$"
   ]
  },
  {
   "cell_type": "code",
   "execution_count": null,
   "metadata": {},
   "outputs": [],
   "source": []
  },
  {
   "cell_type": "code",
   "execution_count": 1,
   "metadata": {},
   "outputs": [
    {
     "name": "stdout",
     "output_type": "stream",
     "text": [
      "Overwriting hellompi.py\n"
     ]
    }
   ],
   "source": [
    "%%file hellompi.py\n",
    "\"\"\"\n",
    "Parallel Hello World\n",
    "\"\"\"\n",
    "\n",
    "from mpi4py import MPI\n",
    "import sys\n",
    "comm = MPI.COMM_WORLD\n",
    "size = comm.Get_size()\n",
    "rank = comm.Get_rank()\n",
    "name = MPI.Get_processor_name() #optional only useful if running on different machines\n",
    "\n",
    "sys.stdout.write(\n",
    "    \"Hello, I am process %d of %d on %s.\\n\" \n",
    "    % (rank, size, name))"
   ]
  },
  {
   "cell_type": "code",
   "execution_count": 2,
   "metadata": {},
   "outputs": [
    {
     "name": "stdout",
     "output_type": "stream",
     "text": [
      "Hello, I am process 1 of 4 on ip0af5c64e.int.uvm.edu.\r\n",
      "Hello, I am process 2 of 4 on ip0af5c64e.int.uvm.edu.\r\n",
      "Hello, I am process 3 of 4 on ip0af5c64e.int.uvm.edu.\r\n",
      "Hello, I am process 0 of 4 on ip0af5c64e.int.uvm.edu.\r\n"
     ]
    }
   ],
   "source": [
    "!mpiexec -n 4 python hellompi.py"
   ]
  },
  {
   "cell_type": "markdown",
   "metadata": {},
   "source": [
    "## I/O tools"
   ]
  },
  {
   "cell_type": "code",
   "execution_count": 9,
   "metadata": {},
   "outputs": [
    {
     "name": "stdout",
     "output_type": "stream",
     "text": [
      "Overwriting tools.py\n"
     ]
    }
   ],
   "source": [
    "%%file tools.py\n",
    "\n",
    "import h5py\n",
    "import numpy as np\n",
    "from scipy import integrate\n",
    "import time\n",
    "\n",
    "def parser(inputfiledata,substring,datatype):\n",
    "    for i in range(len(inputfiledata)):\n",
    "        if inputfiledata[i].startswith(substring):\n",
    "            if datatype == 'INT':\n",
    "                data = np.int(inputfiledata[i][len(substring):-1])\n",
    "            elif datatype == 'FLOAT':\n",
    "                data = np.float(inputfiledata[i][len(substring):-1])\n",
    "            elif datatype == \"STR\":\n",
    "                data = inputfiledata[i][len(substring):-1].strip()\n",
    "            else:\n",
    "                print(\"parser function recognizes only 'INT and 'FLOAT' types\")\n",
    "    return data\n",
    "\n",
    "def read_xt_file(fname):\n",
    "    file = h5py.File(fname,\"r+\")\n",
    "    x_t = file['x_t'][:]\n",
    "    t = file['t'][:]\n",
    "    N_trajectories = file['x_t'].attrs['Number of trajectories']\n",
    "    Tintegration = file['x_t'].attrs['Integration time']\n",
    "    Ntimesteps = file['x_t'].attrs['Number of time steps'] \n",
    "    return x_t,t,N_trajectories,Tintegration,Ntimesteps\n",
    "def write_snapshot_file(fname,X,Y,p):\n",
    "    file = h5py.File(fname,\"w\")\n",
    "    Xset = file.create_dataset('X',data = X)\n",
    "    Yset = file.create_dataset('Y',data = Y)\n",
    "    pset = file.create_dataset('var',data = p)\n",
    "    Xset.attrs['Lx'] = Lx\n",
    "    file.close()\n",
    "    return"
   ]
  },
  {
   "cell_type": "code",
   "execution_count": 18,
   "metadata": {},
   "outputs": [
    {
     "name": "stdout",
     "output_type": "stream",
     "text": [
      "Overwriting Laplacian.py\n"
     ]
    }
   ],
   "source": [
    "%%file Laplacian.py\n",
    "\"\"\"\n",
    "Compute Laplacian of a function of a rectangular domain with uniform grid spacing in x and y\n",
    "\"\"\"\n",
    "\n",
    "from mpi4py import MPI\n",
    "import sys\n",
    "import h5py\n",
    "import numpy as np\n",
    "import time\n",
    "\n",
    "import tools as tls\n",
    "\n",
    "comm = MPI.COMM_WORLD\n",
    "size = comm.Get_size()\n",
    "rank = comm.Get_rank()\n",
    "# definition in indices\n",
    "i_north = 0; i_south = 1; i_east = 2; i_west = 3; Ncardinaldirs = 4\n",
    "i_ori = 0; i_N = 1\n",
    "i_x = 0; i_y = 1\n",
    "if rank == 0:\n",
    "    inputfilename = \"Laplacian.in\"\n",
    "    f = open(inputfilename,'r')\n",
    "    inputfile = f.readlines()\n",
    "    f.close()\n",
    "    Lx = tls.parser(inputfile,\"Lx/(2pi)\",\"FLOAT\")\n",
    "    Lx *= 2*np.pi # Lx= Lx * 2*np.pi\n",
    "    Ly = tls.parser(inputfile,\"Ly/(2pi)\",\"FLOAT\")\n",
    "    Ly *= 2*np.pi\n",
    "    Nx = tls.parser(inputfile,\"Nx\",\"INT\")\n",
    "    Ny = tls.parser(inputfile,\"Ny\",\"INT\")\n",
    "    input_function = tls.parser(inputfile,\"Function\",\"STR\")\n",
    "    outputfile = tls.parser(inputfile,\"Output\",\"STR\")\n",
    "    \n",
    "    npx = tls.parser(inputfile,\"# of processes in x\",\"INT\")\n",
    "    if (npx == 0):\n",
    "        sys.exit(\"npx must be large or equal to 1\")\n",
    "    npy = tls.parser(inputfile,\"# of processes in y\",\"INT\")\n",
    "    if (npy == 0):\n",
    "        sys.exit(\"npy must be large or equal to 1\")\n",
    "    if (npx*npy != size):\n",
    "        sys.exit(\"Number of processes in Laplacian.in is not equal to nb of procs. requested\")\n",
    "\n",
    "    \n",
    "    # Nodes number along i and j\n",
    "    inodes = np.arange(Nx,dtype=np.int32)\n",
    "    jnodes = np.arange(Ny,dtype=np.int32)\n",
    "    # Partioning of inodes and jnodes as a function of requested number of processes npx, and npy\n",
    "    inodes_split = (np.array_split(inodes,npx))\n",
    "    jnodes_split = (np.array_split(jnodes,npy))\n",
    "    # Mapping partitions in 2D defined as offset (i_ori) and length, i_N\n",
    "    \n",
    "    #partitions[number of procs,(i_x,i_y),(i_ori,i_N)]\n",
    "    partitions = np.zeros((size,2,2),dtype=np.int32)\n",
    "    # definition of process location on the ipx,ipy grid\n",
    "    proc_to_partition = np.zeros((size,2), dtype = np.int32)\n",
    "    # location of ipx,ipy proc on number of processes\n",
    "    partition_to_proc = np.zeros((npx,npy), dtype = np.int32)\n",
    "    \n",
    "    # Fill partitions, proc_to_partition, partition_to_proc\n",
    "    ip = 0\n",
    "    for ipx in range(npx):\n",
    "        for ipy in range(npy):\n",
    "            partitions[ip,i_x,i_ori] = inodes_split[ipx][0]\n",
    "            partitions[ip,i_x,i_N] = len(inodes_split[ipx])\n",
    "            partitions[ip,i_y,i_ori] = jnodes_split[ipy][0]\n",
    "            partitions[ip,i_y,i_N] = len(jnodes_split[ipy])\n",
    "            partition_to_proc[ipx,ipy] = ip\n",
    "            proc_to_partition[ip,i_x] = ipx\n",
    "            proc_to_partition[ip,i_y] = ipy\n",
    "            ip += 1\n",
    "    # Definition of neighbors\n",
    "    \n",
    "    # neighbors[nb of procs, cardinal dirs]\n",
    "    neighbors = np.zeros((size,Ncardinaldirs),dtype = np.int32)\n",
    "    for ip in range(size):\n",
    "        # get location of process on ipx ipy grid\n",
    "        ipx = proc_to_partition[ip,i_x]\n",
    "        ipy = proc_to_partition[ip,i_y]\n",
    "        if npx > 1: # if npx = 1 periodicity is enforced in derivation function\n",
    "            if ipx == 0: # takes care periodicity on west boundary\n",
    "                neighbors[ip,i_west] = partition_to_proc[npx - 1,ipy]\n",
    "            else: # neighbor is the proc adjacent to west boundary\n",
    "                neighbors[ip,i_west] = partition_to_proc[ipx - 1,ipy]\n",
    "            if ipx == npx - 1: # periodity on east boundary\n",
    "                neighbors[ip,i_east] = partition_to_proc[0,ipy]\n",
    "            else:\n",
    "                neighbors[ip,i_west] = partition_to_proc[ipx + 1,ipy]\n",
    "        if (npy > 1): \n",
    "            if ipy == 0:\n",
    "                neighbors[ip,i_south] = partition_to_proc[ipx,npy - 1]\n",
    "            else:\n",
    "                neighbors[ip,i_north] = partition_to_proc[ipx,ipy - 1]\n",
    "            if ipy == npy - 1:\n",
    "                neighbors[ip,i_north] = partition_to_proc[ipx,0]\n",
    "            else:\n",
    "                neighbors[ip,i_north] = partition_to_proc[ipx,ipy + 1]\n",
    "        print(neighbors[ip,:])  # debug      \n",
    "                  \n",
    "    # Definition of grid metrics and variable\n",
    "    dx = Lx / Nx\n",
    "    dy = Lx / Ny\n",
    "    x = np.linspace(dx/2., Lx - dx/2.,Nx)\n",
    "    y = np.linspace(dy/2., Ly - dy/2.,Ny)\n",
    "    X,Y = np.meshgrid(x,y) # -> Ny,Nx matrix\n",
    "    X = X.T # -> Nx,Ny matrix\n",
    "    Y = Y.T\n",
    "    #Definition of the variable to be derived on the entire domain\n",
    "    if input_function == 'p':\n",
    "        var = np.cos(2*X) + np.sin(2*Y)\n",
    "    else:\n",
    "        sys.exit(\"Function %s is not defined\" %(input_function))\n",
    "    ip = 0\n",
    "    for ipx in range(npx):\n",
    "        for ipy in range (npy):\n",
    "            if (ip == 0):\n",
    "                print(partitions[ip,i_x,i_ori],partitions[ip,i_x,i_ori] + partitions[ip,i_x,i_N])\n",
    "                print(partitions[ip,i_y,i_ori],partitions[ip,i_y,i_ori] + partitions[ip,i_y,i_N])\n",
    "                my_var = var[partitions[ip,i_x,i_ori]:partitions[ip,i_x,i_ori] + partitions[ip,i_x,i_N],\n",
    "                       partitions[ip,i_y,i_ori]:partitions[ip,i_y,i_ori] + partitions[ip,i_y,i_N]]\n",
    "            else:\n",
    "                buffer = var[partitions[ip,i_x,i_ori]:partitions[ip,i_x,i_ori] + partitions[ip,i_x,i_N],\n",
    "                           partitions[ip,i_y,i_ori]:partitions[ip,i_y,i_ori] + partitions[ip,i_y,i_N]]\n",
    "                comm.send(buffer,dest = ip, tag = ip)\n",
    "            ip += 1\n",
    "else: # rank > 0\n",
    "    my_var = comm.recv(source = 0, tag = rank)\n",
    "    \n",
    "my_neighbors = comm.bcast(neighbors[rank,:], root = 0)    \n",
    "neighbors[rank,i_east]"
   ]
  },
  {
   "cell_type": "code",
   "execution_count": 20,
   "metadata": {},
   "outputs": [
    {
     "data": {
      "text/plain": [
       "43"
      ]
     },
     "execution_count": 20,
     "metadata": {},
     "output_type": "execute_result"
    }
   ],
   "source": [
    "import numpy as np\n",
    "inodes = np.arange(128,dtype='int')\n",
    "npx = 3\n",
    "inodes_split = np.array_split(inodes,npx)\n",
    "# print(inodes_split[0,0],inodes_split[0,-1])\n",
    "\n",
    "len(inodes_split[0])"
   ]
  },
  {
   "cell_type": "code",
   "execution_count": null,
   "metadata": {},
   "outputs": [],
   "source": [
    "!mpiexec -n 4 python Laplacian.py"
   ]
  }
 ],
 "metadata": {
  "kernelspec": {
   "display_name": "Python 3",
   "language": "python",
   "name": "python3"
  },
  "language_info": {
   "codemirror_mode": {
    "name": "ipython",
    "version": 3
   },
   "file_extension": ".py",
   "mimetype": "text/x-python",
   "name": "python",
   "nbconvert_exporter": "python",
   "pygments_lexer": "ipython3",
   "version": "3.8.5"
  }
 },
 "nbformat": 4,
 "nbformat_minor": 4
}
