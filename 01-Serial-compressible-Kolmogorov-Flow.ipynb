{
 "cells": [
  {
   "cell_type": "markdown",
   "metadata": {},
   "source": [
    "# Serial Compressible Kolmogorov Flow Solver\n",
    "\n",
    "## Objective\n",
    "The objective of this notebook is to write a compressible flow solver in a $2n_x\\pi\\times2n_y\\pi$ periodic domain. The flow is forced in the $x$-direction using the Kolmogorov flow forcing:\n",
    "$$\n",
    "S_u = \\sin(n_Ky)\n",
    "$$\n",
    "\n",
    "## Equations\n",
    "\n",
    "In compressible flows, the non-dimensional flow variables are:\n",
    "* Density $\\rho$\n",
    "* Velocity $u_i=\\left(u_1,u_2\\right)^T$ in 2D\n",
    "* Temperature $T=(\\gamma-1)e-\\gamma\\frac{Ma^2}{2}u_iu_i$\n",
    "* Pressure $p=\\rho T$, Perfect gas law is assumed\n",
    "* Internal energy $\\rho e=\\frac{1}{\\gamma-1}p+\\gamma\\frac{Ma^2}{2}\\rho u_iu_i$\n",
    "* Viscosity: $\\mu(T)=T^{0.7}$\n",
    "\n",
    "\n",
    "The compressible flow equations are written in their conservative form:\n",
    "$$\n",
    "\\frac{\\partial U_i}{\\partial t}=\\frac{\\partial F^i_x}{\\partial x}+\\frac{\\partial F^i_y}{\\partial y}+S_i\n",
    "$$\n",
    "where the variable vector $U_i$ is defined as\n",
    "$$\n",
    "U_i=\\left(\\rho,\\rho u_1,\\rho u_2,\\rho e\\right)^T,\n",
    "$$\n",
    "$$\n",
    "S_i=\\left(0,\\sin(n_Kx_1),0,0\\right)^T,\n",
    "$$\n",
    "and the flux vector is\n",
    "$$\n",
    "F_i =\\left(\\begin{array}{l}\n",
    "-\\rho u_i \\\\\n",
    "-\\rho u_iu_1-\\frac{1}{\\gamma Ma^2}p\\delta_{i1}+\\frac{\\mu(T)}{Re}S_{i1}\\\\\n",
    "-\\rho u_iu_2-\\frac{1}{\\gamma Ma^2}p\\delta_{i2}+\\frac{\\mu(T)}{Re}S_{i2}\\\\\n",
    "-\\rho u_i(e+p)+\\frac{\\mu(T)}{Re}\\gamma Ma^2S_{ij}u_j+\\frac{\\gamma}{\\gamma -1}\\frac{\\mu(T)}{Pr Re}\\frac{\\partial T}{\\partial x_i}\n",
    "\\end{array}\\right)\n",
    "$$\n",
    "\n",
    "where the rate of deformation tensor is\n",
    "\n",
    "$$\n",
    "S_{ij}=\\frac{1}{2}\\left(\\frac{\\partial u_i}{\\partial x_j}+\\frac{\\partial u_j}{\\partial x_i}-\\frac{2}{3}\\frac{\\partial u_k}{\\partial x_k}\\delta_{ij}\\right)\n",
    "$$\n",
    "\n",
    "The original MacCormack scheme is a popular choice and consists of 2 steps:\n",
    "* **Predictor**\n",
    "$$\n",
    "\\left.U_i\\right\\vert_{m,n}^{(*)}=\\left.U_i\\right\\vert_{m,n}^{(l)}+\\frac{\\Delta t}{\\Delta x}\\left(\\left.F_i\\right\\vert^{(l)}_{m+1,n}-\\left.F_i\\right\\vert_{m,n}^{(l)}\\right)+\\frac{\\Delta t}{\\Delta y}\\left(\\left.F_i\\right\\vert^{(l)}_{m,n+1}-\\left.F_i\\right\\vert_{m,n}^{(l)}\\right)\n",
    "$$\n",
    "* **Corrector**\n",
    "$$\n",
    "\\left.U_i\\right\\vert_{m,n}^{(l+1)}=\\frac{\\left.U_i\\right\\vert_{m,n}^{(*)}+\\left.U_i\\right\\vert_{m,n}^{(l)}}{2}+\\frac{\\Delta t}{\\Delta x}\\left(\\left.F_i\\right\\vert^{(*)}_{m,n}-\\left.F_i\\right\\vert_{m-1,n}^{(*)}\\right)+\\frac{\\Delta t}{\\Delta y}\\left(\\left.F_i\\right\\vert^{(*)}_{m,n}-\\left.F_i\\right\\vert_{m,n-1}^{(*)}\\right)\n",
    "$$\n",
    "\n",
    "This scheme is second order in time and space, which can be demonstrated in 1D:\n",
    "\n",
    "$$\n",
    "\\left.U_i\\right\\vert_{m}^{(*)}=\\left.U_i\\right\\vert_{m}^{(l)}+\\frac{\\Delta t}{\\Delta x}\\left(\\left.F_i\\right\\vert^{(l)}_{m+1}-\\left.F_i\\right\\vert_{m}^{(l)}\\right)\n",
    "$$\n",
    "$$\n",
    "\\left.U_i\\right\\vert_{m}^{(l+1)}=\\frac{\\left.U_i\\right\\vert_{m}^{(*)}+\\left.U_i\\right\\vert_{m}^{(l)}}{2}+\\frac{\\Delta t}{\\Delta x}\\left(\\left.F_i\\right\\vert^{(*)}_{m}-\\left.F_i\\right\\vert_{m-1}^{(*)}\\right)\n",
    "$$\n",
    "\n",
    "The time step must satisfy the Courant Freidrich Levy conditions as well the stability condition for the viscous term:\n",
    "$$\n",
    "\\Delta t\\leq \\frac{CFL}{\\max\\left[\\frac{\\left\\vert u\\right\\vert+c}{\\Delta x},\\frac{\\left\\vert v\\right\\vert+c}{\\Delta y}\\right]}\\text{ with } c=\\frac{T}{\\gamma Ma^2}\n",
    "$$\n",
    "and\n",
    "$$\n",
    "\\Delta t \\leq\\frac{C_{viscous}}{\\max\\left[\\frac{\\mu(T)}{Re}\\max\\left(\\frac{1}{\\Delta x^2},\\frac{1}{\\Delta y^2}\\right)\\right]}\n",
    "$$\n"
   ]
  },
  {
   "cell_type": "code",
   "execution_count": 19,
   "metadata": {},
   "outputs": [],
   "source": [
    "import numpy as np\n",
    "import matplotlib.pyplot as plt\n",
    "\n",
    "i_rho = 0; i_rhou = 1; i_rhov = 2; i_rhoe = 3; nrhovars = 4\n",
    "i_u = 0; i_v = 1; i_p = 2; i_T = 3; i_e = 4; nvars = 5\n",
    "i_x = 0; i_y = 1\n",
    "ndims = 2\n",
    "nfluxes = 4"
   ]
  },
  {
   "cell_type": "code",
   "execution_count": 2,
   "metadata": {},
   "outputs": [
    {
     "name": "stdout",
     "output_type": "stream",
     "text": [
      "[1.53398079e-03 4.60194236e-03 7.66990394e-03 ... 1.25587007e+01\n",
      " 1.25617687e+01 1.25648366e+01]\n",
      "[0.00153398 0.00153398 0.00153398 ... 0.00153398 0.00153398 0.00153398]\n"
     ]
    }
   ],
   "source": [
    "Re = 10\n",
    "Ma = 0.5\n",
    "Pr = 0.7\n",
    "gamma = 1.4\n",
    "# lx = ly = 2*np.pi\n",
    "lx = 4*np.pi\n",
    "ly = 2*np.pi\n",
    "# nx = ny = 64\n",
    "nx = 4096\n",
    "ny = 2048\n",
    "dx = lx / nx\n",
    "dy = ly / ny\n",
    "ndims = 2\n",
    "\n",
    "x = np.linspace(dx/2,lx-dx/2,nx)\n",
    "y = np.linspace(dy/2,ly-dy/2,ny)\n",
    "X,Y = np.meshgrid(x,y)\n",
    "X = X.T\n",
    "Y = Y.T\n"
   ]
  },
  {
   "cell_type": "markdown",
   "metadata": {},
   "source": [
    "## Definition of variables\n",
    "\n",
    "* Convervative variables: $U=(\\rho,\\rho u_x,\\rho u_y,\\rho e)^T$\n",
    "* Raw variables: $q=(u_x,u_y,p,T)^T$\n",
    "* Temperature $T=(\\gamma-1)e-\\gamma\\frac{Ma^2}{2}u_iu_i$\n",
    "* Pressure $p=\\rho T$, Perfect gas law is assumed\n",
    "* Internal energy $\\rho e=\\frac{1}{\\gamma-1}p+\\gamma\\frac{Ma^2}{2}\\rho u_iu_i$\n",
    "* Viscosity: $\\mu(T)=T^{0.7}$"
   ]
  },
  {
   "cell_type": "code",
   "execution_count": null,
   "metadata": {},
   "outputs": [],
   "source": [
    "\"\"\" Variables\"\"\"\n",
    "def U2q(U):\n",
    "    global gamma,Ma\n",
    "    global i_rho,i_rhou,i_rhov,i_rhoe\n",
    "    global i_u,i_v,i_p,i_T,i_e,nvars\n",
    "    q = np.zeros((nx,ny,nvars))\n",
    "    q[:,:,i_u] = U[:,:,i_rhou]/U[:,:,i_rho]\n",
    "    q[:,:,i_v] = U[:,:,i_rhov]/U[:,:,i_rho]\n",
    "    q[:,:,i_e] = U[:,:,i_rhoe]/U[:,:,i_rho]\n",
    "    q[:,:,i_T] = (gamma - 1)*q[:,:,i_e] - \\\n",
    "                gamma*Ma**2*(q[:,:,i_u]**2 + q[:,:,i_v]**2)\n",
    "    q[:,:,i_p] = U[:,:,i_rho]*q[:,:,i_T]\n",
    "    return q\n",
    "def mu(T):\n",
    "    return np.power(T,0.7)"
   ]
  },
  {
   "cell_type": "code",
   "execution_count": 63,
   "metadata": {},
   "outputs": [],
   "source": [
    "\"\"\" Divergence operators\n",
    "Dplus_x_option1 calculates the derivative of flux along x\n",
    "assuming that F has dimensions [:nx,:ny]\"\"\"\n",
    "def Dplus_x_option1(F):\n",
    "    global dx,nx,ny\n",
    "    Dp = np.zeros_like(F)\n",
    "    for j in range(ny):\n",
    "        for i in range(nx-1):\n",
    "            Dp[i,j] = (F[i+1,j] - F[i,j])/dx\n",
    "        # enforce periodicity at i = nx - 1\n",
    "        Dp[nx-1,j] = (F[0,j] - F[nx-1,j])/dx\n",
    "    return Dp\n",
    "\n",
    "def Dplus_x_option2(F):\n",
    "    global dx,nx,ny\n",
    "    Dp = np.zeros_like(F)\n",
    "    Dp[:nx-1,:] = (F[1:,:] - F[:nx-1,:])/dx\n",
    "    # enforce periodicity at i = nx - 1\n",
    "    Dp[nx-1,:] = (F[0,:] - F[nx-1,:])/dx\n",
    "    return Dp\n",
    "\n",
    "\n",
    "def Dplus_x(F):\n",
    "    global dx,nx,ny\n",
    "    Dp = np.zeros_like(F)\n",
    "    Dp[:nx-1,:] = (F[1:,:] - F[:nx-1,:])/dx\n",
    "    # enforce periodicity at i = nx - 1\n",
    "    Dp[nx-1,:] = (F[0,:] - F[nx-1,:])/dx\n",
    "    return Dp\n",
    "\n",
    "def Dminus_x(F):\n",
    "    global dx,nx,ny\n",
    "    Dm = np.zeros_like(F)\n",
    "    Dm[1:,:] = (F[1:,:] - F[:-1,:])/dx\n",
    "    # enforce periodicity at i = nx - 1\n",
    "    Dm[0,:] = (F[0,:] - F[nx-1,:])/dx\n",
    "    return Dm \n",
    "\n",
    "def Dplus_y(F):\n",
    "    global dy,nx,ny\n",
    "    Dp = np.zeros_like(F)\n",
    "    Dp[:,:ny-1] = (F[:,1:] - F[:,:ny-1])/dy\n",
    "    # enforce periodicity at j = ny - 1\n",
    "    Dp[:,ny-1] = (F[:,0] - F[:,ny-1])/dy\n",
    "    return Dp\n",
    "\n",
    "def Dminus_y(F):\n",
    "    global dy,nx,ny\n",
    "    Dm = np.zeros_like(F)\n",
    "    Dm[:,1:] = (F[:,1:] - F[:,:-1])/dy\n",
    "    # enforce periodicity at i = nx - 1\n",
    "    Dm[:,0] = (F[:,0] - F[:,ny-1])/dy\n",
    "    return Dm\n",
    "\n",
    "def grad_vel_tensor(q):\n",
    "    global i_u,i_v,i_x,i_y,dx,dy\n",
    "    global dx,dy,nx,ny,ndims\n",
    "    #grad_vel[i,j,i_vel,i_dim]\n",
    "    grad_vel = np.zeros((nx,ny,ndims,ndims))\n",
    "    # derivative in x = (q[i+1,j,i_vel] - q[i-1,j,i_vel])/(2*dx)\n",
    "    grad_vel[1:-1,:,:,i_x] = (q[2:,:,:] - q[:-2,:,:]) / (2*dx)\n",
    "    # enforce periodicity\n",
    "    grad_vel[0,:,:,i_x] = (q[1,:,:] - q[-1,:,:]) / (2*dx)\n",
    "    grad_vel[-1,:,:,i_x] = (q[0,:,:] - q[-2,:,:]) / (2*dx)\n",
    "#     # derivative in y\n",
    "    grad_vel[:,1:-1,:,i_y] = (q[:,2:,:] - q[:,:-2,:]) / (2*dy)\n",
    "#     #enforce periodicity\n",
    "    grad_vel[:,0,:,i_y] = (q[:,1,:] - q[:,-1,:]) / (2*dy)\n",
    "    grad_vel[:,-1,:,i_y] = (q[:,0,:] - q[:,-2,:]) / (2*dy)\n",
    "    return grad_vel\n",
    "\n",
    "def Sij_tensor(gradvel):\n",
    "    global i_u,i_v,i_x,i_y,ndims\n",
    "    S = np.zeros_like(gradvel)\n",
    "    div = gradvel[:,:,i_u,i_x] + gradvel[:,:,i_v,i_y]\n",
    "    for j in range(ndims):\n",
    "        for i in range(ndims):\n",
    "            S[:,:,i,j] = 0.5*(gradvel[:,:,i,j] + gradvel[:,:,j,i])\n",
    "    for i in range(ndims):\n",
    "        S[:,:,i,i] -= 2./3.*div\n",
    "    return S\n",
    "\n",
    "def grad_temperature(T):\n",
    "    global nx,ny,ndims,dx,dy,i_x,i_y\n",
    "    \n",
    "    gradT = np.zeros((nx,ny,ndims))\n",
    "    # x-derivative\n",
    "    gradT[1:-1,:,i_x] = (T[2:,:] - T[:-2,:])/(2*dx)\n",
    "    # enforce periodicity\n",
    "    gradT[0,:,i_x] = (T[1,:] - T[-1,:])/(2*dx)\n",
    "    gradT[-1,:,i_x] = (T[0,:] - T[-2,:])/(2*dx)\n",
    "    # y-derivative\n",
    "    gradT[:,1:-1,i_y] = (T[:,2:] - T[:,:-2])/(2*dy)\n",
    "    # enforce periodicity\n",
    "    gradT[:,0,i_y] = (T[:,1] - T[:,-1])/(2*dy)\n",
    "    gradT[:,-1,i_y] = (T[:,0] - T[:,-2])/(2*dy)\n",
    "    return gradT"
   ]
  },
  {
   "cell_type": "code",
   "execution_count": 64,
   "metadata": {},
   "outputs": [],
   "source": [
    "F = np.sin(X)\n",
    "q = np.zeros((nx,ny,nvars))\n",
    "q[:,:,i_u] = np.sin(X)\n",
    "np.shape(q[:,:,:i_v+1])\n",
    "grad_vel = grad_vel_tensor(q[:,:,:i_v+1])\n",
    "S = Sij_tensor(grad_vel)"
   ]
  },
  {
   "cell_type": "code",
   "execution_count": 65,
   "metadata": {},
   "outputs": [
    {
     "data": {
      "text/plain": [
       "2"
      ]
     },
     "execution_count": 65,
     "metadata": {},
     "output_type": "execute_result"
    }
   ],
   "source": [
    "ndims"
   ]
  },
  {
   "cell_type": "code",
   "execution_count": 66,
   "metadata": {},
   "outputs": [
    {
     "data": {
      "image/png": "[encoded data removed]",
      "text/plain": [
       "<Figure size 432x288 with 1 Axes>"
      ]
     },
     "metadata": {
      "needs_background": "light"
     },
     "output_type": "display_data"
    }
   ],
   "source": [
    "# plt.contourf(X,Y,q[:,:,i_u])\n",
    "# plt.contourf(X[1:-1,:],Y[1:-1,:],(q[2:,:,i_u] - q[:-2,:,i_u]) / (2*dx))\n",
    "plt.contourf(X,Y,grad_vel[:,:,i_u,i_x])\n",
    "plt.show()"
   ]
  },
  {
   "cell_type": "code",
   "execution_count": 14,
   "metadata": {},
   "outputs": [],
   "source": [
    "# %%timeit\n",
    "Dp2 = Dplus_x_option2(F)"
   ]
  },
  {
   "cell_type": "code",
   "execution_count": 21,
   "metadata": {},
   "outputs": [
    {
     "data": {
      "image/png": "[encoded data removed]",
      "text/plain": [
       "<Figure size 432x288 with 1 Axes>"
      ]
     },
     "metadata": {
      "needs_background": "light"
     },
     "output_type": "display_data"
    },
    {
     "data": {
      "image/png": "[encoded data removed]",
      "text/plain": [
       "<Figure size 432x288 with 1 Axes>"
      ]
     },
     "metadata": {
      "needs_background": "light"
     },
     "output_type": "display_data"
    },
    {
     "name": "stdout",
     "output_type": "stream",
     "text": [
      "0.9999996078173083 -0.9999996078173083\n"
     ]
    },
    {
     "data": {
      "text/plain": [
       "[<matplotlib.lines.Line2D at 0x7f97a956b2e0>]"
      ]
     },
     "execution_count": 21,
     "metadata": {},
     "output_type": "execute_result"
    },
    {
     "data": {
      "image/png": "[encoded data removed]",
      "text/plain": [
       "<Figure size 432x288 with 1 Axes>"
      ]
     },
     "metadata": {
      "needs_background": "light"
     },
     "output_type": "display_data"
    }
   ],
   "source": [
    "# F = np.ones((nx,ny))\n",
    "F = np.sin(X)\n",
    "plt.contourf(X,Y,F)\n",
    "plt.show()\n",
    "Dp2 = Dminus_x(F)\n",
    "plt.contourf(X,Y,Dp2)\n",
    "plt.show()\n",
    "print(np.amax(Dp2),np.amin(Dp2))\n",
    "\n",
    "plt.plot(x,Dp2[:,0])\n",
    "plt.plot(x,np.cos(x),'--')"
   ]
  },
  {
   "cell_type": "markdown",
   "metadata": {},
   "source": [
    "$$\n",
    "F_i =\\left(\\begin{array}{l}\n",
    "-\\rho u_i \\\\\n",
    "-\\rho u_iu_1-\\frac{1}{\\gamma Ma^2}p\\delta_{i1}+\\frac{\\mu(T)}{Re}S_{i1}\\\\\n",
    "-\\rho u_iu_2-\\frac{1}{\\gamma Ma^2}p\\delta_{i2}+\\frac{\\mu(T)}{Re}S_{i2}\\\\\n",
    "-\\rho u_i(e+p)+\\frac{\\mu(T)}{Re}\\gamma Ma^2S_{ij}u_j+\\frac{\\gamma}{\\gamma -1}\\frac{\\mu(T)}{Pr Re}\\frac{\\partial T}{\\partial x_i}\n",
    "\\end{array}\\right)\n",
    "$$"
   ]
  },
  {
   "cell_type": "markdown",
   "metadata": {},
   "source": [
    "$$\n",
    "F_x =\\left(\\begin{array}{l}\n",
    "-\\rho u_x \\\\\n",
    "-\\rho u_xu_x-\\frac{1}{\\gamma Ma^2}p+\\frac{\\mu(T)}{Re}S_{xx}\\\\\n",
    "-\\rho u_xu_y+\\frac{\\mu(T)}{Re}S_{xy}\\\\\n",
    "-\\rho u_x(e+p)+\\frac{\\mu(T)}{Re}\\gamma Ma^2(S_{xx}u_x+S_{xy}u_y)+\\frac{\\gamma}{\\gamma -1}\\frac{\\mu(T)}{Pr Re}\\frac{\\partial T}{\\partial x}\n",
    "\\end{array}\\right)\n",
    "$$"
   ]
  },
  {
   "cell_type": "code",
   "execution_count": null,
   "metadata": {},
   "outputs": [],
   "source": [
    "def Flux(U,q,S,gradT):\n",
    "    global i_rho,i_u,i_v,i_e,i_p,i_T,nfluxes\n",
    "    mu_visc = mu(q[:,:,i_T])\n",
    "    Fx = np.zeros((nx,ny,nfluxes))\n",
    "    Fx[:,:,i_rho] = -U[:,:,i_rhou]\n",
    "    Fx[:,:,i_rhou] = - U[:,:,i_rhou]*q[:,:,i_u] \\\n",
    "                    - q[:,:,i_p]/(gamma*Ma**2) \\\n",
    "                    + mu_visc/Re*S[:,:,i_x,i_x]\n",
    "    Fx[:,:,i_rhov] = - U[:,:,i_rhou]*q[:,:,i_v] \\\n",
    "                    + mu_visc/Re*S[:,:,i_x,i_y]\n",
    "    Fx[:,:,i_rhoe] = -U[:,:,i_rhou]*(q[:,:,i_e] + q[:,:,i_p]) \\\n",
    "                    +mu_visc/Re*gamma*Ma**2* \\\n",
    "                    (S[:,:,i_x,i_x]*q[:,:,i_x] + S[:,:,i_x,i_y]*q[:,:,i_v]) \\\n",
    "                    +gamma/(gamma - 1)*mu_visc/(Pr*Re)*gradT[:,:,i_x]\n",
    "    \n",
    "    Fy[:,:,i_rho] = -U[:,:,i_rhov]\n",
    "    Fy[:,:,i_rhou] = - U[:,:,i_rhov]*q[:,:,i_u] \\\n",
    "                    + mu_visc/Re*S[:,:,i_y,i_x]\n",
    "    Fy[:,:,i_rhov] = - U[:,:,i_rhov]*q[:,:,i_v] \\\n",
    "                    - q[:,:,i_p]/(gamma*Ma**2) \\\n",
    "                    + mu_visc/Re*S[:,:,i_x,i_x]\n",
    "    Fy[:,:,i_rhoe] = -U[:,:,i_rhov]*(q[:,:,i_e] + q[:,:,i_p]) \\\n",
    "                    +mu_visc/Re*gamma*Ma**2* \\\n",
    "                    (S[:,:,i_y,i_x]*q[:,:,i_x] + S[:,:,i_y,i_y]*q[:,:,i_v]) \\\n",
    "                    +gamma/(gamma - 1)*mu_visc/(Pr*Re)*gradT[:,:,i_y]"
   ]
  },
  {
   "cell_type": "markdown",
   "metadata": {},
   "source": [
    "$$\n",
    "F_x =\\left(\\begin{array}{l}\n",
    "-\\rho u_y \\\\\n",
    "-\\rho u_yu_x+\\frac{\\mu(T)}{Re}S_{xx}\\\\\n",
    "-\\rho u_yu_y-\\frac{1}{\\gamma Ma^2}p+\\frac{\\mu(T)}{Re}S_{xy}\\\\\n",
    "-\\rho u_y(e+p)+\\frac{\\mu(T)}{Re}\\gamma Ma^2(S_{yx}u_x+S_{yy}u_y)+\\frac{\\gamma}{\\gamma -1}\\frac{\\mu(T)}{Pr Re}\\frac{\\partial T}{\\partial y}\n",
    "\\end{array}\\right)\n",
    "$$"
   ]
  },
  {
   "cell_type": "markdown",
   "metadata": {},
   "source": [
    "## Assignment\n",
    "\n",
    "* Perform verification of functions\n",
    "* Finish the code."
   ]
  }
 ],
 "metadata": {
  "kernelspec": {
   "display_name": "Python 3",
   "language": "python",
   "name": "python3"
  },
  "language_info": {
   "codemirror_mode": {
    "name": "ipython",
    "version": 3
   },
   "file_extension": ".py",
   "mimetype": "text/x-python",
   "name": "python",
   "nbconvert_exporter": "python",
   "pygments_lexer": "ipython3",
   "version": "3.8.5"
  }
 },
 "nbformat": 4,
 "nbformat_minor": 4
}
