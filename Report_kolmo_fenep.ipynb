{
 "cells": [
  {
   "cell_type": "markdown",
   "id": "c1bb5ea9",
   "metadata": {},
   "source": [
    "# Komolgorov Flow with polymer additives\n",
    "\n",
    "## Objective\n",
    "\n",
    "The objective of this report is to document the performance of a dedalus code simulating a Kolmogorov Flow with a viscoelastic model for polymer additives. \n",
    "\n",
    "## Description of the base flow\n",
    "\n",
    "The Kolmogorov flow is an incompressible flow in a fully periodic domain. Here the study is limited to a two-dimensional domain of horizontal and vertical dimensions, $L_x = 2n_x\\pi$ and $L_y=2n_y\\pi$, respectively. The governing equations consists of the continuity equation,\n",
    "$$ \\partial_i u_i=0$$\n",
    "and the momentum transport equation:\n",
    "$$\n",
    "\\partial_tu_i +u_j\\partial_ju_i=-\\partial_i p+\\frac{1}{Re}\\partial_j\\partial_ju_i+\\delta_{i1}\\sin n_Kx_2\n",
    "$$\n",
    "The laminar Kolmogorov flow can be interpreted as an infinite array of counter-flowing horizontal jets of wavelength $n_K$. For $n_K=1$, the critical Reynolds number at which the flow becomes unstable is $\\sqrt{2}$. \n",
    "\n",
    "## Modification of the base flow\n",
    "\n",
    "The polymer model consists of a tensor transport equation:\n",
    "$$\n",
    "\\partial_tC_{ij}+u_k\\partial_kC_{ij}=C_{ik}(\\partial_ku_j)+(\\partial_k u_i)C_{kj}-T_{ij}\n",
    "$$\n",
    "where the polymer stress tensor is\n",
    "$$\n",
    "T_{ij}=\\frac{1}{Wi}\\left(\\frac{C_{ij}}{1-\\frac{C_{kk}}{L^2}}-\\delta_{ij}\\right)\n",
    "$$\n",
    "\n",
    "The $C_{ij}$ tensor is symmetric therefore the implementation of the model results in the addition of 3 transport equations in 2D and the calculation of the $T_{ij}$ tensor.\n",
    "\n"
   ]
  },
  {
   "cell_type": "code",
   "execution_count": null,
   "id": "4645b2ea",
   "metadata": {},
   "outputs": [],
   "source": []
  }
 ],
 "metadata": {
  "kernelspec": {
   "display_name": "Python 3",
   "language": "python",
   "name": "python3"
  },
  "language_info": {
   "codemirror_mode": {
    "name": "ipython",
    "version": 3
   },
   "file_extension": ".py",
   "mimetype": "text/x-python",
   "name": "python",
   "nbconvert_exporter": "python",
   "pygments_lexer": "ipython3",
   "version": "3.7.11"
  }
 },
 "nbformat": 4,
 "nbformat_minor": 5
}
